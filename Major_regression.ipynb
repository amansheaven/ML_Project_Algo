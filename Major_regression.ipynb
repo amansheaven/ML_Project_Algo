{
 "cells": [
  {
   "cell_type": "code",
   "execution_count": 25,
   "metadata": {},
   "outputs": [
    {
     "name": "stdout",
     "output_type": "stream",
     "text": [
      "Enter the name of the stock you want ot predict (in Capital) :AAPL\n"
     ]
    }
   ],
   "source": [
    "from sklearn import linear_model \n",
    "import statsmodels.api as sm\n",
    "import pandas as pd\n",
    "import numpy as np\n",
    "import requests\n",
    "import json\n",
    "import io\n",
    "str=input('Enter the name of the stock you want ot predict (in Capital) :')\n",
    "url = 'https://www.alphavantage.co/query?function=TIME_SERIES_DAILY&symbol='+str+'&outputsize=full&apikey=47DJ9RC2J7RJYJ9B&datatype=csv'\n",
    "\n",
    "s=requests.get(url).content\n",
    "\n",
    "df=pd.read_csv(io.StringIO(s.decode('utf-8')))"
   ]
  },
  {
   "cell_type": "code",
   "execution_count": 26,
   "metadata": {},
   "outputs": [],
   "source": [
    "url = 'https://www.alphavantage.co/query?function=TIME_SERIES_INTRADAY&symbol='+str+'&interval=5min&outputsize=full&apikey=47DJ9RC2J7RJYJ9B&datatype=csv'\n",
    "\n",
    "s=requests.get(url).content\n",
    "\n",
    "df_real=pd.read_csv(io.StringIO(s.decode('utf-8')))"
   ]
  },
  {
   "cell_type": "code",
   "execution_count": 27,
   "metadata": {
    "scrolled": true
   },
   "outputs": [
    {
     "data": {
      "text/html": [
       "<div>\n",
       "<style scoped>\n",
       "    .dataframe tbody tr th:only-of-type {\n",
       "        vertical-align: middle;\n",
       "    }\n",
       "\n",
       "    .dataframe tbody tr th {\n",
       "        vertical-align: top;\n",
       "    }\n",
       "\n",
       "    .dataframe thead th {\n",
       "        text-align: right;\n",
       "    }\n",
       "</style>\n",
       "<table border=\"1\" class=\"dataframe\">\n",
       "  <thead>\n",
       "    <tr style=\"text-align: right;\">\n",
       "      <th></th>\n",
       "      <th>timestamp</th>\n",
       "      <th>open</th>\n",
       "      <th>high</th>\n",
       "      <th>low</th>\n",
       "      <th>close</th>\n",
       "      <th>volume</th>\n",
       "    </tr>\n",
       "  </thead>\n",
       "  <tbody>\n",
       "    <tr>\n",
       "      <th>0</th>\n",
       "      <td>2019-07-30 16:00:00</td>\n",
       "      <td>208.940</td>\n",
       "      <td>208.940</td>\n",
       "      <td>208.3436</td>\n",
       "      <td>208.6850</td>\n",
       "      <td>1096338</td>\n",
       "    </tr>\n",
       "    <tr>\n",
       "      <th>1</th>\n",
       "      <td>2019-07-30 15:55:00</td>\n",
       "      <td>208.985</td>\n",
       "      <td>209.210</td>\n",
       "      <td>208.9200</td>\n",
       "      <td>208.9500</td>\n",
       "      <td>649403</td>\n",
       "    </tr>\n",
       "    <tr>\n",
       "      <th>2</th>\n",
       "      <td>2019-07-30 15:50:00</td>\n",
       "      <td>208.870</td>\n",
       "      <td>209.000</td>\n",
       "      <td>208.7550</td>\n",
       "      <td>208.9858</td>\n",
       "      <td>490842</td>\n",
       "    </tr>\n",
       "    <tr>\n",
       "      <th>3</th>\n",
       "      <td>2019-07-30 15:45:00</td>\n",
       "      <td>209.090</td>\n",
       "      <td>209.100</td>\n",
       "      <td>208.8000</td>\n",
       "      <td>208.8739</td>\n",
       "      <td>434540</td>\n",
       "    </tr>\n",
       "    <tr>\n",
       "      <th>4</th>\n",
       "      <td>2019-07-30 15:40:00</td>\n",
       "      <td>209.315</td>\n",
       "      <td>209.315</td>\n",
       "      <td>208.9246</td>\n",
       "      <td>209.0800</td>\n",
       "      <td>412610</td>\n",
       "    </tr>\n",
       "  </tbody>\n",
       "</table>\n",
       "</div>"
      ],
      "text/plain": [
       "             timestamp     open     high       low     close   volume\n",
       "0  2019-07-30 16:00:00  208.940  208.940  208.3436  208.6850  1096338\n",
       "1  2019-07-30 15:55:00  208.985  209.210  208.9200  208.9500   649403\n",
       "2  2019-07-30 15:50:00  208.870  209.000  208.7550  208.9858   490842\n",
       "3  2019-07-30 15:45:00  209.090  209.100  208.8000  208.8739   434540\n",
       "4  2019-07-30 15:40:00  209.315  209.315  208.9246  209.0800   412610"
      ]
     },
     "execution_count": 27,
     "metadata": {},
     "output_type": "execute_result"
    }
   ],
   "source": [
    "df_real.head()"
   ]
  },
  {
   "cell_type": "code",
   "execution_count": 29,
   "metadata": {},
   "outputs": [],
   "source": [
    "# d_['open'].iloc[1]"
   ]
  },
  {
   "cell_type": "code",
   "execution_count": 30,
   "metadata": {},
   "outputs": [
    {
     "data": {
      "text/html": [
       "<div>\n",
       "<style scoped>\n",
       "    .dataframe tbody tr th:only-of-type {\n",
       "        vertical-align: middle;\n",
       "    }\n",
       "\n",
       "    .dataframe tbody tr th {\n",
       "        vertical-align: top;\n",
       "    }\n",
       "\n",
       "    .dataframe thead th {\n",
       "        text-align: right;\n",
       "    }\n",
       "</style>\n",
       "<table border=\"1\" class=\"dataframe\">\n",
       "  <thead>\n",
       "    <tr style=\"text-align: right;\">\n",
       "      <th></th>\n",
       "      <th>timestamp</th>\n",
       "      <th>open</th>\n",
       "      <th>high</th>\n",
       "      <th>low</th>\n",
       "      <th>close</th>\n",
       "      <th>volume</th>\n",
       "    </tr>\n",
       "  </thead>\n",
       "  <tbody>\n",
       "    <tr>\n",
       "      <th>0</th>\n",
       "      <td>2019-07-30</td>\n",
       "      <td>208.76</td>\n",
       "      <td>210.16</td>\n",
       "      <td>207.31</td>\n",
       "      <td>208.78</td>\n",
       "      <td>32947899</td>\n",
       "    </tr>\n",
       "    <tr>\n",
       "      <th>1</th>\n",
       "      <td>2019-07-29</td>\n",
       "      <td>208.46</td>\n",
       "      <td>210.64</td>\n",
       "      <td>208.44</td>\n",
       "      <td>209.68</td>\n",
       "      <td>21673389</td>\n",
       "    </tr>\n",
       "    <tr>\n",
       "      <th>2</th>\n",
       "      <td>2019-07-26</td>\n",
       "      <td>207.48</td>\n",
       "      <td>209.73</td>\n",
       "      <td>207.14</td>\n",
       "      <td>207.74</td>\n",
       "      <td>17618874</td>\n",
       "    </tr>\n",
       "    <tr>\n",
       "      <th>3</th>\n",
       "      <td>2019-07-25</td>\n",
       "      <td>208.89</td>\n",
       "      <td>209.24</td>\n",
       "      <td>206.73</td>\n",
       "      <td>207.02</td>\n",
       "      <td>13909535</td>\n",
       "    </tr>\n",
       "    <tr>\n",
       "      <th>4</th>\n",
       "      <td>2019-07-24</td>\n",
       "      <td>207.67</td>\n",
       "      <td>209.15</td>\n",
       "      <td>207.17</td>\n",
       "      <td>208.67</td>\n",
       "      <td>14991567</td>\n",
       "    </tr>\n",
       "  </tbody>\n",
       "</table>\n",
       "</div>"
      ],
      "text/plain": [
       "    timestamp    open    high     low   close    volume\n",
       "0  2019-07-30  208.76  210.16  207.31  208.78  32947899\n",
       "1  2019-07-29  208.46  210.64  208.44  209.68  21673389\n",
       "2  2019-07-26  207.48  209.73  207.14  207.74  17618874\n",
       "3  2019-07-25  208.89  209.24  206.73  207.02  13909535\n",
       "4  2019-07-24  207.67  209.15  207.17  208.67  14991567"
      ]
     },
     "execution_count": 30,
     "metadata": {},
     "output_type": "execute_result"
    }
   ],
   "source": [
    "df.head()"
   ]
  },
  {
   "cell_type": "code",
   "execution_count": 31,
   "metadata": {},
   "outputs": [
    {
     "name": "stdout",
     "output_type": "stream",
     "text": [
      "Intercept: \n",
      " -0.08885627887997316\n",
      "Coefficients: \n",
      " [-6.14981253e-01  9.00449056e-01  7.13463182e-01 -8.00326827e-13]\n"
     ]
    }
   ],
   "source": [
    "\n",
    "X = df[['open','high','low','volume']] \n",
    "Y = df['close'] \n",
    "regr = linear_model.LinearRegression()\n",
    "regr.fit(X, Y)\n",
    "print('Intercept: \\n', regr.intercept_)\n",
    "print('Coefficients: \\n', regr.coef_)"
   ]
  },
  {
   "cell_type": "code",
   "execution_count": 32,
   "metadata": {},
   "outputs": [],
   "source": [
    "openv= df_real['open'].iloc[1]\n",
    "highv= df_real['high'].iloc[1]\n",
    "lowv = df_real['low'].iloc[1]\n",
    "volume= df_real['volume'].iloc[1]"
   ]
  },
  {
   "cell_type": "code",
   "execution_count": 33,
   "metadata": {},
   "outputs": [],
   "source": [
    "Prediction_result  = ('Predicted Closing Value: ', regr.predict([[openv ,lowv,highv,volume]]))"
   ]
  },
  {
   "cell_type": "code",
   "execution_count": 34,
   "metadata": {},
   "outputs": [
    {
     "data": {
      "text/plain": [
       "('Predicted Closing Value: ', array([208.7747351]))"
      ]
     },
     "execution_count": 34,
     "metadata": {},
     "output_type": "execute_result"
    }
   ],
   "source": [
    "Prediction_result"
   ]
  },
  {
   "cell_type": "code",
   "execution_count": null,
   "metadata": {},
   "outputs": [],
   "source": []
  },
  {
   "cell_type": "code",
   "execution_count": null,
   "metadata": {},
   "outputs": [],
   "source": []
  },
  {
   "cell_type": "code",
   "execution_count": null,
   "metadata": {},
   "outputs": [],
   "source": []
  },
  {
   "cell_type": "code",
   "execution_count": null,
   "metadata": {},
   "outputs": [],
   "source": []
  },
  {
   "cell_type": "code",
   "execution_count": null,
   "metadata": {},
   "outputs": [],
   "source": []
  },
  {
   "cell_type": "code",
   "execution_count": null,
   "metadata": {},
   "outputs": [],
   "source": []
  }
 ],
 "metadata": {
  "kernelspec": {
   "display_name": "Python 3",
   "language": "python",
   "name": "python3"
  },
  "language_info": {
   "codemirror_mode": {
    "name": "ipython",
    "version": 3
   },
   "file_extension": ".py",
   "mimetype": "text/x-python",
   "name": "python",
   "nbconvert_exporter": "python",
   "pygments_lexer": "ipython3",
   "version": "3.6.5"
  }
 },
 "nbformat": 4,
 "nbformat_minor": 2
}
